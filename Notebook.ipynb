{
 "cells": [
  {
   "cell_type": "code",
   "execution_count": 1,
   "id": "cb51e127",
   "metadata": {},
   "outputs": [],
   "source": [
    "import time\n",
    "time.sleep(0.1)  # Ensure the import is delayed to simulate a longer startup time"
   ]
  },
  {
   "cell_type": "markdown",
   "id": "21379160",
   "metadata": {},
   "source": []
  },
  {
   "cell_type": "code",
   "execution_count": 2,
   "id": "90bb34d6",
   "metadata": {},
   "outputs": [
    {
     "name": "stdout",
     "output_type": "stream",
     "text": [
      "Requirement already satisfied: torch in c:\\users\\ashka\\appdata\\local\\packages\\pythonsoftwarefoundation.python.3.11_qbz5n2kfra8p0\\localcache\\local-packages\\python311\\site-packages (from -r requirements.txt (line 1)) (2.7.1)\n",
      "Requirement already satisfied: wandb in c:\\users\\ashka\\appdata\\local\\packages\\pythonsoftwarefoundation.python.3.11_qbz5n2kfra8p0\\localcache\\local-packages\\python311\\site-packages (from -r requirements.txt (line 2)) (0.20.1)\n",
      "Requirement already satisfied: scikit-learn in c:\\users\\ashka\\appdata\\local\\packages\\pythonsoftwarefoundation.python.3.11_qbz5n2kfra8p0\\localcache\\local-packages\\python311\\site-packages (from -r requirements.txt (line 3)) (1.7.0)\n",
      "Requirement already satisfied: matplotlib in c:\\users\\ashka\\appdata\\local\\packages\\pythonsoftwarefoundation.python.3.11_qbz5n2kfra8p0\\localcache\\local-packages\\python311\\site-packages (from -r requirements.txt (line 4)) (3.10.3)\n",
      "Requirement already satisfied: numpy in c:\\users\\ashka\\appdata\\local\\packages\\pythonsoftwarefoundation.python.3.11_qbz5n2kfra8p0\\localcache\\local-packages\\python311\\site-packages (from -r requirements.txt (line 5)) (2.3.0)\n",
      "Requirement already satisfied: pandas in c:\\users\\ashka\\appdata\\local\\packages\\pythonsoftwarefoundation.python.3.11_qbz5n2kfra8p0\\localcache\\local-packages\\python311\\site-packages (from -r requirements.txt (line 6)) (2.3.0)\n",
      "Requirement already satisfied: Bio in c:\\users\\ashka\\appdata\\local\\packages\\pythonsoftwarefoundation.python.3.11_qbz5n2kfra8p0\\localcache\\local-packages\\python311\\site-packages (from -r requirements.txt (line 7)) (1.8.0)\n",
      "Requirement already satisfied: seaborn in c:\\users\\ashka\\appdata\\local\\packages\\pythonsoftwarefoundation.python.3.11_qbz5n2kfra8p0\\localcache\\local-packages\\python311\\site-packages (from -r requirements.txt (line 8)) (0.13.2)\n",
      "Requirement already satisfied: xgboost in c:\\users\\ashka\\appdata\\local\\packages\\pythonsoftwarefoundation.python.3.11_qbz5n2kfra8p0\\localcache\\local-packages\\python311\\site-packages (from -r requirements.txt (line 9)) (3.0.2)\n",
      "Requirement already satisfied: catboost in c:\\users\\ashka\\appdata\\local\\packages\\pythonsoftwarefoundation.python.3.11_qbz5n2kfra8p0\\localcache\\local-packages\\python311\\site-packages (from -r requirements.txt (line 10)) (1.2.8)\n",
      "Requirement already satisfied: openpyxl in c:\\users\\ashka\\appdata\\local\\packages\\pythonsoftwarefoundation.python.3.11_qbz5n2kfra8p0\\localcache\\local-packages\\python311\\site-packages (from -r requirements.txt (line 11)) (3.1.5)\n",
      "Requirement already satisfied: filelock in c:\\users\\ashka\\appdata\\local\\packages\\pythonsoftwarefoundation.python.3.11_qbz5n2kfra8p0\\localcache\\local-packages\\python311\\site-packages (from torch->-r requirements.txt (line 1)) (3.18.0)\n",
      "Requirement already satisfied: typing-extensions>=4.10.0 in c:\\users\\ashka\\appdata\\local\\packages\\pythonsoftwarefoundation.python.3.11_qbz5n2kfra8p0\\localcache\\local-packages\\python311\\site-packages (from torch->-r requirements.txt (line 1)) (4.14.0)\n",
      "Requirement already satisfied: sympy>=1.13.3 in c:\\users\\ashka\\appdata\\local\\packages\\pythonsoftwarefoundation.python.3.11_qbz5n2kfra8p0\\localcache\\local-packages\\python311\\site-packages (from torch->-r requirements.txt (line 1)) (1.14.0)\n",
      "Requirement already satisfied: networkx in c:\\users\\ashka\\appdata\\local\\packages\\pythonsoftwarefoundation.python.3.11_qbz5n2kfra8p0\\localcache\\local-packages\\python311\\site-packages (from torch->-r requirements.txt (line 1)) (3.5)\n",
      "Requirement already satisfied: jinja2 in c:\\users\\ashka\\appdata\\local\\packages\\pythonsoftwarefoundation.python.3.11_qbz5n2kfra8p0\\localcache\\local-packages\\python311\\site-packages (from torch->-r requirements.txt (line 1)) (3.1.6)\n",
      "Requirement already satisfied: fsspec in c:\\users\\ashka\\appdata\\local\\packages\\pythonsoftwarefoundation.python.3.11_qbz5n2kfra8p0\\localcache\\local-packages\\python311\\site-packages (from torch->-r requirements.txt (line 1)) (2025.5.1)\n",
      "Requirement already satisfied: click!=8.0.0,>=7.1 in c:\\users\\ashka\\appdata\\local\\packages\\pythonsoftwarefoundation.python.3.11_qbz5n2kfra8p0\\localcache\\local-packages\\python311\\site-packages (from wandb->-r requirements.txt (line 2)) (8.2.1)\n",
      "Requirement already satisfied: gitpython!=3.1.29,>=1.0.0 in c:\\users\\ashka\\appdata\\local\\packages\\pythonsoftwarefoundation.python.3.11_qbz5n2kfra8p0\\localcache\\local-packages\\python311\\site-packages (from wandb->-r requirements.txt (line 2)) (3.1.44)\n",
      "Requirement already satisfied: packaging in c:\\users\\ashka\\appdata\\local\\packages\\pythonsoftwarefoundation.python.3.11_qbz5n2kfra8p0\\localcache\\local-packages\\python311\\site-packages (from wandb->-r requirements.txt (line 2)) (25.0)\n",
      "Requirement already satisfied: platformdirs in c:\\users\\ashka\\appdata\\local\\packages\\pythonsoftwarefoundation.python.3.11_qbz5n2kfra8p0\\localcache\\local-packages\\python311\\site-packages (from wandb->-r requirements.txt (line 2)) (4.3.8)\n",
      "Requirement already satisfied: protobuf!=4.21.0,!=5.28.0,<7,>=3.19.0 in c:\\users\\ashka\\appdata\\local\\packages\\pythonsoftwarefoundation.python.3.11_qbz5n2kfra8p0\\localcache\\local-packages\\python311\\site-packages (from wandb->-r requirements.txt (line 2)) (6.31.1)\n",
      "Requirement already satisfied: psutil>=5.0.0 in c:\\users\\ashka\\appdata\\local\\packages\\pythonsoftwarefoundation.python.3.11_qbz5n2kfra8p0\\localcache\\local-packages\\python311\\site-packages (from wandb->-r requirements.txt (line 2)) (7.0.0)\n",
      "Requirement already satisfied: pydantic<3 in c:\\users\\ashka\\appdata\\local\\packages\\pythonsoftwarefoundation.python.3.11_qbz5n2kfra8p0\\localcache\\local-packages\\python311\\site-packages (from wandb->-r requirements.txt (line 2)) (2.11.5)\n",
      "Requirement already satisfied: pyyaml in c:\\users\\ashka\\appdata\\local\\packages\\pythonsoftwarefoundation.python.3.11_qbz5n2kfra8p0\\localcache\\local-packages\\python311\\site-packages (from wandb->-r requirements.txt (line 2)) (6.0.2)\n",
      "Requirement already satisfied: requests<3,>=2.0.0 in c:\\users\\ashka\\appdata\\local\\packages\\pythonsoftwarefoundation.python.3.11_qbz5n2kfra8p0\\localcache\\local-packages\\python311\\site-packages (from wandb->-r requirements.txt (line 2)) (2.32.3)\n",
      "Requirement already satisfied: sentry-sdk>=2.0.0 in c:\\users\\ashka\\appdata\\local\\packages\\pythonsoftwarefoundation.python.3.11_qbz5n2kfra8p0\\localcache\\local-packages\\python311\\site-packages (from wandb->-r requirements.txt (line 2)) (2.29.1)\n",
      "Requirement already satisfied: setproctitle in c:\\users\\ashka\\appdata\\local\\packages\\pythonsoftwarefoundation.python.3.11_qbz5n2kfra8p0\\localcache\\local-packages\\python311\\site-packages (from wandb->-r requirements.txt (line 2)) (1.3.6)\n",
      "Requirement already satisfied: annotated-types>=0.6.0 in c:\\users\\ashka\\appdata\\local\\packages\\pythonsoftwarefoundation.python.3.11_qbz5n2kfra8p0\\localcache\\local-packages\\python311\\site-packages (from pydantic<3->wandb->-r requirements.txt (line 2)) (0.7.0)\n",
      "Requirement already satisfied: pydantic-core==2.33.2 in c:\\users\\ashka\\appdata\\local\\packages\\pythonsoftwarefoundation.python.3.11_qbz5n2kfra8p0\\localcache\\local-packages\\python311\\site-packages (from pydantic<3->wandb->-r requirements.txt (line 2)) (2.33.2)\n",
      "Requirement already satisfied: typing-inspection>=0.4.0 in c:\\users\\ashka\\appdata\\local\\packages\\pythonsoftwarefoundation.python.3.11_qbz5n2kfra8p0\\localcache\\local-packages\\python311\\site-packages (from pydantic<3->wandb->-r requirements.txt (line 2)) (0.4.1)\n",
      "Requirement already satisfied: charset-normalizer<4,>=2 in c:\\users\\ashka\\appdata\\local\\packages\\pythonsoftwarefoundation.python.3.11_qbz5n2kfra8p0\\localcache\\local-packages\\python311\\site-packages (from requests<3,>=2.0.0->wandb->-r requirements.txt (line 2)) (3.4.2)\n",
      "Requirement already satisfied: idna<4,>=2.5 in c:\\users\\ashka\\appdata\\local\\packages\\pythonsoftwarefoundation.python.3.11_qbz5n2kfra8p0\\localcache\\local-packages\\python311\\site-packages (from requests<3,>=2.0.0->wandb->-r requirements.txt (line 2)) (3.10)\n",
      "Requirement already satisfied: urllib3<3,>=1.21.1 in c:\\users\\ashka\\appdata\\local\\packages\\pythonsoftwarefoundation.python.3.11_qbz5n2kfra8p0\\localcache\\local-packages\\python311\\site-packages (from requests<3,>=2.0.0->wandb->-r requirements.txt (line 2)) (2.4.0)\n",
      "Requirement already satisfied: certifi>=2017.4.17 in c:\\users\\ashka\\appdata\\local\\packages\\pythonsoftwarefoundation.python.3.11_qbz5n2kfra8p0\\localcache\\local-packages\\python311\\site-packages (from requests<3,>=2.0.0->wandb->-r requirements.txt (line 2)) (2025.4.26)\n",
      "Requirement already satisfied: scipy>=1.8.0 in c:\\users\\ashka\\appdata\\local\\packages\\pythonsoftwarefoundation.python.3.11_qbz5n2kfra8p0\\localcache\\local-packages\\python311\\site-packages (from scikit-learn->-r requirements.txt (line 3)) (1.15.3)\n",
      "Requirement already satisfied: joblib>=1.2.0 in c:\\users\\ashka\\appdata\\local\\packages\\pythonsoftwarefoundation.python.3.11_qbz5n2kfra8p0\\localcache\\local-packages\\python311\\site-packages (from scikit-learn->-r requirements.txt (line 3)) (1.5.1)\n",
      "Requirement already satisfied: threadpoolctl>=3.1.0 in c:\\users\\ashka\\appdata\\local\\packages\\pythonsoftwarefoundation.python.3.11_qbz5n2kfra8p0\\localcache\\local-packages\\python311\\site-packages (from scikit-learn->-r requirements.txt (line 3)) (3.6.0)\n",
      "Requirement already satisfied: contourpy>=1.0.1 in c:\\users\\ashka\\appdata\\local\\packages\\pythonsoftwarefoundation.python.3.11_qbz5n2kfra8p0\\localcache\\local-packages\\python311\\site-packages (from matplotlib->-r requirements.txt (line 4)) (1.3.2)\n",
      "Requirement already satisfied: cycler>=0.10 in c:\\users\\ashka\\appdata\\local\\packages\\pythonsoftwarefoundation.python.3.11_qbz5n2kfra8p0\\localcache\\local-packages\\python311\\site-packages (from matplotlib->-r requirements.txt (line 4)) (0.12.1)\n",
      "Requirement already satisfied: fonttools>=4.22.0 in c:\\users\\ashka\\appdata\\local\\packages\\pythonsoftwarefoundation.python.3.11_qbz5n2kfra8p0\\localcache\\local-packages\\python311\\site-packages (from matplotlib->-r requirements.txt (line 4)) (4.58.2)\n",
      "Requirement already satisfied: kiwisolver>=1.3.1 in c:\\users\\ashka\\appdata\\local\\packages\\pythonsoftwarefoundation.python.3.11_qbz5n2kfra8p0\\localcache\\local-packages\\python311\\site-packages (from matplotlib->-r requirements.txt (line 4)) (1.4.8)\n",
      "Requirement already satisfied: pillow>=8 in c:\\users\\ashka\\appdata\\local\\packages\\pythonsoftwarefoundation.python.3.11_qbz5n2kfra8p0\\localcache\\local-packages\\python311\\site-packages (from matplotlib->-r requirements.txt (line 4)) (11.2.1)\n",
      "Requirement already satisfied: pyparsing>=2.3.1 in c:\\users\\ashka\\appdata\\local\\packages\\pythonsoftwarefoundation.python.3.11_qbz5n2kfra8p0\\localcache\\local-packages\\python311\\site-packages (from matplotlib->-r requirements.txt (line 4)) (3.2.3)\n",
      "Requirement already satisfied: python-dateutil>=2.7 in c:\\users\\ashka\\appdata\\local\\packages\\pythonsoftwarefoundation.python.3.11_qbz5n2kfra8p0\\localcache\\local-packages\\python311\\site-packages (from matplotlib->-r requirements.txt (line 4)) (2.9.0.post0)\n",
      "Requirement already satisfied: pytz>=2020.1 in c:\\users\\ashka\\appdata\\local\\packages\\pythonsoftwarefoundation.python.3.11_qbz5n2kfra8p0\\localcache\\local-packages\\python311\\site-packages (from pandas->-r requirements.txt (line 6)) (2025.2)\n",
      "Requirement already satisfied: tzdata>=2022.7 in c:\\users\\ashka\\appdata\\local\\packages\\pythonsoftwarefoundation.python.3.11_qbz5n2kfra8p0\\localcache\\local-packages\\python311\\site-packages (from pandas->-r requirements.txt (line 6)) (2025.2)\n",
      "Requirement already satisfied: biopython>=1.80 in c:\\users\\ashka\\appdata\\local\\packages\\pythonsoftwarefoundation.python.3.11_qbz5n2kfra8p0\\localcache\\local-packages\\python311\\site-packages (from Bio->-r requirements.txt (line 7)) (1.85)\n",
      "Requirement already satisfied: gprofiler-official in c:\\users\\ashka\\appdata\\local\\packages\\pythonsoftwarefoundation.python.3.11_qbz5n2kfra8p0\\localcache\\local-packages\\python311\\site-packages (from Bio->-r requirements.txt (line 7)) (1.0.0)\n",
      "Requirement already satisfied: mygene in c:\\users\\ashka\\appdata\\local\\packages\\pythonsoftwarefoundation.python.3.11_qbz5n2kfra8p0\\localcache\\local-packages\\python311\\site-packages (from Bio->-r requirements.txt (line 7)) (3.2.2)\n",
      "Requirement already satisfied: pooch in c:\\users\\ashka\\appdata\\local\\packages\\pythonsoftwarefoundation.python.3.11_qbz5n2kfra8p0\\localcache\\local-packages\\python311\\site-packages (from Bio->-r requirements.txt (line 7)) (1.8.2)\n",
      "Requirement already satisfied: tqdm in c:\\users\\ashka\\appdata\\local\\packages\\pythonsoftwarefoundation.python.3.11_qbz5n2kfra8p0\\localcache\\local-packages\\python311\\site-packages (from Bio->-r requirements.txt (line 7)) (4.67.1)\n",
      "Requirement already satisfied: graphviz in c:\\users\\ashka\\appdata\\local\\packages\\pythonsoftwarefoundation.python.3.11_qbz5n2kfra8p0\\localcache\\local-packages\\python311\\site-packages (from catboost->-r requirements.txt (line 10)) (0.20.3)\n",
      "Requirement already satisfied: plotly in c:\\users\\ashka\\appdata\\local\\packages\\pythonsoftwarefoundation.python.3.11_qbz5n2kfra8p0\\localcache\\local-packages\\python311\\site-packages (from catboost->-r requirements.txt (line 10)) (6.1.2)\n",
      "Requirement already satisfied: six in c:\\users\\ashka\\appdata\\local\\packages\\pythonsoftwarefoundation.python.3.11_qbz5n2kfra8p0\\localcache\\local-packages\\python311\\site-packages (from catboost->-r requirements.txt (line 10)) (1.17.0)\n",
      "Requirement already satisfied: et-xmlfile in c:\\users\\ashka\\appdata\\local\\packages\\pythonsoftwarefoundation.python.3.11_qbz5n2kfra8p0\\localcache\\local-packages\\python311\\site-packages (from openpyxl->-r requirements.txt (line 11)) (2.0.0)\n",
      "Requirement already satisfied: colorama in c:\\users\\ashka\\appdata\\local\\packages\\pythonsoftwarefoundation.python.3.11_qbz5n2kfra8p0\\localcache\\local-packages\\python311\\site-packages (from click!=8.0.0,>=7.1->wandb->-r requirements.txt (line 2)) (0.4.6)\n",
      "Requirement already satisfied: gitdb<5,>=4.0.1 in c:\\users\\ashka\\appdata\\local\\packages\\pythonsoftwarefoundation.python.3.11_qbz5n2kfra8p0\\localcache\\local-packages\\python311\\site-packages (from gitpython!=3.1.29,>=1.0.0->wandb->-r requirements.txt (line 2)) (4.0.12)\n",
      "Requirement already satisfied: smmap<6,>=3.0.1 in c:\\users\\ashka\\appdata\\local\\packages\\pythonsoftwarefoundation.python.3.11_qbz5n2kfra8p0\\localcache\\local-packages\\python311\\site-packages (from gitdb<5,>=4.0.1->gitpython!=3.1.29,>=1.0.0->wandb->-r requirements.txt (line 2)) (5.0.2)\n",
      "Requirement already satisfied: mpmath<1.4,>=1.1.0 in c:\\users\\ashka\\appdata\\local\\packages\\pythonsoftwarefoundation.python.3.11_qbz5n2kfra8p0\\localcache\\local-packages\\python311\\site-packages (from sympy>=1.13.3->torch->-r requirements.txt (line 1)) (1.3.0)\n",
      "Requirement already satisfied: MarkupSafe>=2.0 in c:\\users\\ashka\\appdata\\local\\packages\\pythonsoftwarefoundation.python.3.11_qbz5n2kfra8p0\\localcache\\local-packages\\python311\\site-packages (from jinja2->torch->-r requirements.txt (line 1)) (3.0.2)\n",
      "Requirement already satisfied: biothings-client>=0.2.6 in c:\\users\\ashka\\appdata\\local\\packages\\pythonsoftwarefoundation.python.3.11_qbz5n2kfra8p0\\localcache\\local-packages\\python311\\site-packages (from mygene->Bio->-r requirements.txt (line 7)) (0.4.1)\n",
      "Requirement already satisfied: httpx>=0.22.0 in c:\\users\\ashka\\appdata\\local\\packages\\pythonsoftwarefoundation.python.3.11_qbz5n2kfra8p0\\localcache\\local-packages\\python311\\site-packages (from biothings-client>=0.2.6->mygene->Bio->-r requirements.txt (line 7)) (0.28.1)\n",
      "Requirement already satisfied: anyio in c:\\users\\ashka\\appdata\\local\\packages\\pythonsoftwarefoundation.python.3.11_qbz5n2kfra8p0\\localcache\\local-packages\\python311\\site-packages (from httpx>=0.22.0->biothings-client>=0.2.6->mygene->Bio->-r requirements.txt (line 7)) (4.9.0)\n",
      "Requirement already satisfied: httpcore==1.* in c:\\users\\ashka\\appdata\\local\\packages\\pythonsoftwarefoundation.python.3.11_qbz5n2kfra8p0\\localcache\\local-packages\\python311\\site-packages (from httpx>=0.22.0->biothings-client>=0.2.6->mygene->Bio->-r requirements.txt (line 7)) (1.0.9)\n",
      "Requirement already satisfied: h11>=0.16 in c:\\users\\ashka\\appdata\\local\\packages\\pythonsoftwarefoundation.python.3.11_qbz5n2kfra8p0\\localcache\\local-packages\\python311\\site-packages (from httpcore==1.*->httpx>=0.22.0->biothings-client>=0.2.6->mygene->Bio->-r requirements.txt (line 7)) (0.16.0)\n",
      "Requirement already satisfied: sniffio>=1.1 in c:\\users\\ashka\\appdata\\local\\packages\\pythonsoftwarefoundation.python.3.11_qbz5n2kfra8p0\\localcache\\local-packages\\python311\\site-packages (from anyio->httpx>=0.22.0->biothings-client>=0.2.6->mygene->Bio->-r requirements.txt (line 7)) (1.3.1)\n",
      "Requirement already satisfied: narwhals>=1.15.1 in c:\\users\\ashka\\appdata\\local\\packages\\pythonsoftwarefoundation.python.3.11_qbz5n2kfra8p0\\localcache\\local-packages\\python311\\site-packages (from plotly->catboost->-r requirements.txt (line 10)) (1.41.1)\n"
     ]
    }
   ],
   "source": [
    "# !pip install pip --upgrade pip\n",
    "!pip install -r requirements.txt\n"
   ]
  },
  {
   "cell_type": "code",
   "execution_count": 1,
   "id": "6ca7f8cc",
   "metadata": {},
   "outputs": [
    {
     "name": "stdout",
     "output_type": "stream",
     "text": [
      "^C\n"
     ]
    }
   ],
   "source": [
    "!python -u main.py --model cnn \\\n",
    "  --fasta \"C:\\University\\Project\\Project_code\\Triticum aestivum Plant1\\Protein Sequences Triticum aestive  40% CD-Hit.fasta\" \\\n",
    "  --excel \"C:\\University\\Project\\Project_code\\Triticum aestivum Plant1\\Triticum aestive -UB-Sites.xlsx\" \\\n",
    "  --fasta2 \"Zea Mays Plant 2\\CD-Hit Protein Sequences Zea mays plant-  40% CD-Hit.fasta\" \\\n",
    "  --excel2 \"Zea Mays Plant 2\\Zea mays -UB-Sites.xlsx\" \\\n",
    "  --pssm1 \"Triticum aestivum Plant1\\PSSM Fetuers for Triticum aestive Plant\" \\\n",
    "  --pssm2 \"Zea Mays Plant 2\\PSSM feature for Zea mays Plant\" \\\n",
    "  --features aac dpc tpc pssm physicochem binary \\\n",
    "  --window_size 21 \\\n",
    "  --epochs 10 \\\n",
    "  --batch_size 32 \\\n",
    "  --lr 0.001 \\\n",
    "  --loss bce \\\n",
    "  --optim adam \\\n",
    "  --sched step \\\n",
    "  --step_size 10 \\\n",
    "  --gamma 0.1 \\\n",
    "  --device cuda \\\n",
    "  --wandb_project ubiquitination-prediction \\\n",
    "  --wandb_entity ashkan132-fard \\\n",
    "  --wandb_api_key e32e31ab856f60bb3a50f3439a4526ecee094986 \\\n",
    "  --wandb\n"
   ]
  }
 ],
 "metadata": {
  "kernelspec": {
   "display_name": "Python 3",
   "language": "python",
   "name": "python3"
  },
  "language_info": {
   "codemirror_mode": {
    "name": "ipython",
    "version": 3
   },
   "file_extension": ".py",
   "mimetype": "text/x-python",
   "name": "python",
   "nbconvert_exporter": "python",
   "pygments_lexer": "ipython3",
   "version": "3.11.9"
  }
 },
 "nbformat": 4,
 "nbformat_minor": 5
}
