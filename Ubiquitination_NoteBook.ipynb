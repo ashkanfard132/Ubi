{
  "cells": [
    {
      "cell_type": "markdown",
      "source": [
        "# Environment Setup & Checks"
      ],
      "metadata": {
        "id": "FG7D_eFIekoY"
      },
      "id": "FG7D_eFIekoY"
    },
    {
      "cell_type": "code",
      "source": [
        "# %%capture\n",
        "!nvidia-smi"
      ],
      "metadata": {
        "id": "XTWNMzEH7Owj"
      },
      "id": "XTWNMzEH7Owj",
      "execution_count": 11,
      "outputs": []
    },
    {
      "cell_type": "code",
      "execution_count": 2,
      "id": "cb51e127",
      "metadata": {
        "id": "cb51e127"
      },
      "outputs": [],
      "source": [
        "import time\n",
        "time.sleep(0.1)"
      ]
    },
    {
      "cell_type": "code",
      "execution_count": null,
      "id": "iRwLDEZYLk17",
      "metadata": {
        "id": "iRwLDEZYLk17"
      },
      "outputs": [],
      "source": [
        "# from google.colab import drive\n",
        "# drive.mount('/content/drive')"
      ]
    },
    {
      "cell_type": "markdown",
      "source": [
        "### GIT Configuration (Just run when you are plannig to use git)"
      ],
      "metadata": {
        "id": "ptL84mE4obl5"
      },
      "id": "ptL84mE4obl5"
    },
    {
      "cell_type": "code",
      "source": [
        "# %%capture\n",
        "# Ignore it if you are not cloning from GIT\n",
        "# pick a folder and go there\n",
        "!mkdir -p ./Ubi && cd ./Ubi\n",
        "\n",
        "# clone\n",
        "!git clone https://github.com/ashkanfard132/Ubi.git\n",
        "\n",
        "# enter the repo\n",
        "%cd Ubi"
      ],
      "metadata": {
        "id": "7BYfvCWklp_O"
      },
      "id": "7BYfvCWklp_O",
      "execution_count": 12,
      "outputs": []
    },
    {
      "cell_type": "code",
      "source": [
        "!pip -q install unzip"
      ],
      "metadata": {
        "colab": {
          "base_uri": "https://localhost:8080/"
        },
        "id": "xA1cQ1Szo2at",
        "outputId": "03428244-94b6-4029-8afd-531549576c11"
      },
      "id": "xA1cQ1Szo2at",
      "execution_count": 3,
      "outputs": [
        {
          "output_type": "stream",
          "name": "stdout",
          "text": [
            "\u001b[33mWARNING: Error parsing dependencies of distro-info: Invalid version: '1.1build1'\u001b[0m\u001b[33m\n",
            "\u001b[0m\u001b[33mWARNING: Error parsing dependencies of python-debian: Invalid version: '0.1.43ubuntu1'\u001b[0m\u001b[33m\n",
            "\u001b[0m"
          ]
        }
      ]
    },
    {
      "cell_type": "code",
      "source": [
        "!unzip -q ./Ubi-data.zip -d ./data\n"
      ],
      "metadata": {
        "id": "CM_53DnEowvA"
      },
      "id": "CM_53DnEowvA",
      "execution_count": 4,
      "outputs": []
    },
    {
      "cell_type": "markdown",
      "id": "21379160",
      "metadata": {
        "id": "21379160"
      },
      "source": []
    },
    {
      "cell_type": "markdown",
      "source": [
        "### Set the project location and install the library."
      ],
      "metadata": {
        "id": "8b63OeMFd-Dt"
      },
      "id": "8b63OeMFd-Dt"
    },
    {
      "cell_type": "code",
      "execution_count": 1,
      "id": "yY8a_jfxLy17",
      "metadata": {
        "colab": {
          "base_uri": "https://localhost:8080/"
        },
        "id": "yY8a_jfxLy17",
        "outputId": "1f645db9-79fe-4535-975c-9325c5dcb7c7"
      },
      "outputs": [
        {
          "output_type": "stream",
          "name": "stdout",
          "text": [
            "/user/HS402/aa07623/Downloads\n"
          ]
        }
      ],
      "source": [
        "# If You are using clone, Ignore it\n",
        "# %%capture\n",
        "%cd ./Downloads"
      ]
    },
    {
      "cell_type": "code",
      "execution_count": 8,
      "id": "90bb34d6",
      "metadata": {
        "id": "90bb34d6"
      },
      "outputs": [],
      "source": [
        "# %%capture\n",
        "!pip install -r requirements.txt\n"
      ]
    },
    {
      "cell_type": "markdown",
      "source": [
        "# Machine Learning"
      ],
      "metadata": {
        "id": "mlIexS5L4E2r"
      },
      "id": "mlIexS5L4E2r"
    },
    {
      "cell_type": "markdown",
      "source": [
        "## Option for **ML pipeline**\n",
        "\n",
        "**Make sure on Google Colab you are using !python instead of !python3**\n",
        "\n",
        "**Model Config**\n",
        "`--model {rf, xgb, ada, cat, svm, lreg}`\n",
        "\n",
        "* **rf** – Random Forest\n",
        "* **xgb** – XGBoost\n",
        "* **ada** – AdaBoost\n",
        "* **cat** – CatBoost\n",
        "* **svm** – Support Vector Machine\n",
        "* **lreg** – Logistic Regression\n",
        "  *(Sklearn models; ignore CUDA/epochs/lr. Optional SVM grid: `--svm-grid` with `--svm-kernels`, `--svm-C`, `--svm-gamma`.)*\n",
        "\n",
        "**Dataset**\n",
        "\n",
        "* Plant 1: `--fasta <path>` and `--excel <path>` (required)\n",
        "* Plant 2 (optional merge): `--fasta2 <path>` and `--excel2 <path>`\n",
        "* Optional PSSM folders aligned to each FASTA’s order: `--pssm1 <dir>` (plant 1), `--pssm2 <dir>` (plant 2)\n",
        "\n",
        "**Features** (choose one or many; space-separated after `--features`)\n",
        "\n",
        "* `aac` – amino-acid composition (windowed)\n",
        "* `dpc` – dipeptide composition\n",
        "* `tpc` – tripeptide composition\n",
        "* `pssm` – position-specific scoring matrix features (requires `--pssm1/--pssm2`)\n",
        "* `physicochem` – physicochemical descriptors\n",
        "* `binary` – one-hot window encoding\n",
        "  Default: `aac dpc tpc`\n",
        "\n",
        "**Context window**\n",
        "`--window_size` (odd integer, 5–35). Typical: **21**; smaller is faster, larger gives more context.\n",
        "\n",
        "**Sampling (class imbalance)**\n",
        "`--sampling {over, under, smote, smotee, none} [--sampling_ratios ...]`\n",
        "You can chain steps (e.g., `--sampling over smote --sampling_ratios 1.0 0.5`). Default: `none`.\n",
        "\n",
        "**Cross-validation**\n",
        "`--cv 1` → single split (80/20 test; with a small val from train).\n",
        "`--cv k` → k-fold CV with averaged metrics.\n",
        "\n",
        "**Decision threshold (ML only)**\n",
        "`--best_threshold` → learns the test threshold on the **validation** set (optimizes F2).\n",
        "\n",
        "**Plots**\n",
        "`--plots distribution confusion roc pr [feature_distribution feature_correlation feature_scatter boxplot violinplot groupwise_pca overlays]`\n",
        "Saved under `results/`.\n",
        "\n",
        "**W\\&B (optional)**\n",
        "`--wandb` (plus `--wandb_project`, `--wandb_entity` or env `WANDB_ENTITY`). Omit `--wandb` to keep it off.\n",
        "\n",
        "**Reproducibility**\n",
        "`--seed 42` (default).\n",
        "\n",
        "**Outputs** (in `results/`)\n",
        "\n",
        "* `results_{model}_{timestamp}.json` (natural test)\n",
        "* `results_{model}_{timestamp}_bal.json` (balanced test)\n",
        "* `{model}_{features}_{window}_{timestamp}_metrics.xlsx`\n",
        "* Requested plot PNGs\n",
        "\n",
        "\n",
        "> Notes: Ensure the PSSM directories match the FASTA order. For SVM with quick tuning, add:\n",
        "> `--svm-grid --svm-kernels rbf,linear --svm-C 0.1,1,5,10 --svm-gamma scale,auto,0.001,0.0001`.\n"
      ],
      "metadata": {
        "id": "7xTloz7wRFPQ"
      },
      "id": "7xTloz7wRFPQ"
    },
    {
      "cell_type": "code",
      "source": [
        "# %%capture\n",
        "!python3 -u main.py \\\n",
        "  --model rf \\\n",
        "  --fasta \"./Triticum aestivum Plant1/Protein Sequences Triticum aestive  40% CD-Hit.fasta\" \\\n",
        "  --excel \"./Triticum aestivum Plant1/Triticum aestive -UB-Sites.xlsx\" \\\n",
        "  --fasta2 \"./Zea Mays Plant 2/CD-Hit Protein Sequences Zea mays plant-  40% CD-Hit.fasta\" \\\n",
        "  --excel2 \"./Zea Mays Plant 2/Zea mays -UB-Sites.xlsx\" \\\n",
        "  --pssm1 \"./Triticum aestivum Plant1/PSSM Fetuers for Triticum aestive Plant\" \\\n",
        "  --pssm2 \"./Zea Mays Plant 2/PSSM feature for Zea mays Plant\" \\\n",
        "  --features binary \\\n",
        "  --window_size 5 \\\n",
        "  --device cuda \\\n",
        "  --sampling none \\\n",
        "  --sampling_ratios 1 \\\n",
        "  --cv 1 \\\n",
        "  --plots distribution confusion roc pr"
      ],
      "metadata": {
        "id": "mprh_ApH4cfn"
      },
      "id": "mprh_ApH4cfn",
      "execution_count": 19,
      "outputs": []
    },
    {
      "cell_type": "code",
      "source": [
        "# %%capture\n",
        "!python3 -u main.py \\\n",
        "  --model rf \\\n",
        "  --fasta \"./data/Data/Triticum aestivum Plant1/Protein Sequences Triticum aestive  40% CD-Hit.fasta\" \\\n",
        "  --excel \"./data/Data/Triticum aestivum Plant1/Triticum aestive -UB-Sites.xlsx\" \\\n",
        "  --pssm1 \"./data/Data/Triticum aestivum Plant1/PSSM Fetuers for Triticum aestive Plant\" \\\n",
        "  --features binary \\\n",
        "  --window_size 5 \\\n",
        "  --device cuda \\\n",
        "  --sampling over \\\n",
        "  --sampling_ratios 1 \\\n",
        "  --cv 1 \\\n",
        "  --plots distribution confusion roc pr"
      ],
      "metadata": {
        "id": "1LPSsWLd4GqX"
      },
      "id": "1LPSsWLd4GqX",
      "execution_count": 10,
      "outputs": []
    },
    {
      "cell_type": "code",
      "source": [
        "# %%capture\n",
        "!python3 -u main.py \\\n",
        "  --model rf \\\n",
        "  --fasta \"./Zea Mays Plant 2/CD-Hit Protein Sequences Zea mays plant-  40% CD-Hit.fasta\" \\\n",
        "  --excel \"./Zea Mays Plant 2/Zea mays -UB-Sites.xlsx\" \\\n",
        "  --pssm1 \"./Zea Mays Plant 2/PSSM feature for Zea mays Plant\" \\\n",
        "  --features binary \\\n",
        "  --window_size 5 \\\n",
        "  --device cuda \\\n",
        "  --sampling none \\\n",
        "  --sampling_ratios 1 \\\n",
        "  --cv 1 \\\n",
        "  --plots distribution confusion roc pr"
      ],
      "metadata": {
        "id": "E5-2FbGb4XgU"
      },
      "id": "E5-2FbGb4XgU",
      "execution_count": null,
      "outputs": []
    },
    {
      "cell_type": "markdown",
      "source": [
        "# Deep Learning"
      ],
      "metadata": {
        "id": "yqvXYvkzW7az"
      },
      "id": "yqvXYvkzW7az"
    },
    {
      "cell_type": "markdown",
      "source": [
        "## Option for **Deep Learning pipeline**\n",
        "\n",
        "**Make sure on Google Colab you are using !python instead of !python3**\n",
        "\n",
        "**Model Config**\n",
        "`--model {mlp, cnn, lstm, gru, transformer, prot_bert, distil_prot_bert, esm2_t6_8m}`\n",
        "\n",
        "* **mlp** — Feed-forward net over **feature vectors** (AAC/DPC/TPC/etc.).\n",
        "* **cnn / lstm / gru / transformer** — Sequence models over **AA indices** (no handcrafted features).\n",
        "* **prot\\_bert / distil\\_prot\\_bert** — HuggingFace protein BERTs (tokenized AA text).\n",
        "* **esm2\\_t6\\_8m** — FAIR ESM2 (tiny, tokenized AA text).\n",
        "\n",
        "**Dataset**\n",
        "\n",
        "* Plant 1 (required): `--fasta <path>` and `--excel <path>`\n",
        "* Plant 2 (optional merge): `--fasta2 <path>` and `--excel2 <path>`\n",
        "* Optional PSSM: `--pssm1 <dir>` (Plant 1), `--pssm2 <dir>` (Plant 2). Must follow FASTA order.\n",
        "\n",
        "**Features (when they matter)**\n",
        "\n",
        "* **mlp:** uses `--features` (space-separated) e.g. `aac dpc tpc pssm physicochem binary`. PSSM dirs are consumed here.\n",
        "* **cnn/lstm/gru/transformer/prot\\_bert/distil\\_prot\\_bert/esm2\\_t6\\_8m:** ignore handcrafted `--features` and PSSM; they learn **directly from sequence**.\n",
        "\n",
        "**Context window / length**\n",
        "`--window_size` (odd integer, 5–35)\n",
        "\n",
        "* **cnn/lstm/gru/transformer:** sequences are integer-encoded from a centered window of this size.\n",
        "* **prot\\_bert / distil\\_prot\\_bert / esm2\\_t6\\_8m:** used as `max_length` for tokenization. Larger windows = more memory.\n",
        "\n",
        "**Training hyperparameters (DL only)**\n",
        "\n",
        "* Epochs & batches: `--epochs`, `--batch_size`, `--batch_size_val`\n",
        "* Device: `--device {cpu|cuda}` (CUDA recommended)\n",
        "* Loss: `--loss {bce,mse,mae,focal}` + optional `--pos_weight` for class imbalance (BCE)\n",
        "* Optimizer: `--optim {adam,sgd,rmsprop,adamw,amsgrad}`, `--lr`, `--weight_decay`\n",
        "* Scheduler: `--sched {step,exp,plateau,cosine,none}` with `--step_size`, `--gamma`, `--t_max` (cosine)\n",
        "* Regularization: `--dropout` (typical: 0.3–0.5 MLP/CNN, 0.2–0.3 LSTM, 0.1–0.3 Transformer)\n",
        "* Pretrained encoders: `--freeze_pretrained` (feature-extraction mode for ProtBert/ESM2)\n",
        "\n",
        "**Class imbalance options**\n",
        "\n",
        "* `--sampling {over, under, smote, smotee, none}` with `--sampling_ratios ...`\n",
        "\n",
        "  * **For sequence models (cnn/lstm/gru/transformer/prot\\_bert/esm2):** prefer **over/under** only. SMOTE/SMOTEE synthesize feature vectors (not sequences) and aren’t meaningful here.\n",
        "  * **For mlp:** all sampling modes are applicable.\n",
        "\n",
        "**Cross-validation**\n",
        "\n",
        "* `--cv 1` → single split (80/20 test; small val from train).\n",
        "* `--cv k` → k-fold with averaged metrics & optional per-fold logs.\n",
        "\n",
        "**Decision threshold**\n",
        "\n",
        "* `--best_threshold` will learn a threshold on the **validation set** (F2-optimal) and apply it to test.\n",
        "  *Note: although the help string says “ML only”, the code supports this for DL models too.*\n",
        "\n",
        "**Plots**\n",
        "`--plots distribution curves confusion roc pr [feature_distribution feature_correlation feature_scatter boxplot violinplot groupwise_pca overlays]`\n",
        "\n",
        "* `curves` shows train/val metrics per epoch (DL only).\n",
        "* Images and metrics are written to `results/`.\n",
        "\n",
        "**W\\&B (optional)**\n",
        "\n",
        "* Add `--wandb` (+ `--wandb_project`, `--wandb_entity` or env `WANDB_ENTITY`) to log runs. Omit `--wandb` to keep it off.\n",
        "\n",
        "**Outputs (in `results/`)**\n",
        "\n",
        "* `results_{model}_{timestamp}.json` — natural test metrics\n",
        "* `results_{model}_{timestamp}_bal.json` — balanced test metrics\n",
        "* `{model}_{features_or_seq}_{window}_{timestamp}_metrics.xlsx` — Excel summary\n",
        "* Requested plot PNGs; training curves if `curves` is selected\n",
        "\n",
        "\n",
        "> **Notes:**\n",
        "> • For transformer/BERT/ESM models, monitor GPU memory; reduce `--batch_size` or `--window_size` if you hit OOM.\n",
        "> • If you pass PSSM dirs with sequence models, they’ll be ignored (only MLP/feature routes use them).\n",
        "> • Set `--seed` for reproducible splits and training behavior.\n"
      ],
      "metadata": {
        "id": "a-DMpYtWXCg9"
      },
      "id": "a-DMpYtWXCg9"
    },
    {
      "cell_type": "code",
      "source": [
        "# %%capture\n",
        "!python3 -u main.py \\\n",
        "  --model cnn \\\n",
        "  --fasta \"./Triticum aestivum Plant1/Protein Sequences Triticum aestive  40% CD-Hit.fasta\" \\\n",
        "  --excel \"./Triticum aestivum Plant1/Triticum aestive -UB-Sites.xlsx\" \\\n",
        "  --fasta2 \"./Zea Mays Plant 2/CD-Hit Protein Sequences Zea mays plant-  40% CD-Hit.fasta\" \\\n",
        "  --excel2 \"./Zea Mays Plant 2/Zea mays -UB-Sites.xlsx\" \\\n",
        "  --pssm1 \"./Triticum aestivum Plant1/PSSM Fetuers for Triticum aestive Plant\" \\\n",
        "  --pssm2 \"./Zea Mays Plant 2/PSSM feature for Zea mays Plant\" \\\n",
        "  --window_size 17 \\\n",
        "  --epochs 10 \\\n",
        "  --seed 42 \\\n",
        "  --batch_size 32 \\\n",
        "  --batch_size_val 16 \\\n",
        "  --lr 5e-5 \\\n",
        "  --dropout 0.2 \\\n",
        "  --freeze_pretrained \\\n",
        "  --loss bce \\\n",
        "  --pos_weight 1  \\\n",
        "  --optim adamw \\\n",
        "  --weight_decay 0.01 \\\n",
        "  --sched none \\\n",
        "  --step_size 4 \\\n",
        "  --t_max 10 \\\n",
        "  --gamma 0.1 \\\n",
        "  --device cuda \\\n",
        "  --sampling over \\\n",
        "  --sampling_ratios 95 \\\n",
        "  --cv 1 \\\n",
        "  --plots distribution confusion roc pr"
      ],
      "metadata": {
        "id": "15oLZbR04kUE"
      },
      "id": "15oLZbR04kUE",
      "execution_count": 7,
      "outputs": []
    },
    {
      "cell_type": "code",
      "source": [
        "# %%capture\n",
        "!python3 -u main.py \\\n",
        "  --model cnn \\\n",
        "  --fasta \"./Triticum aestivum Plant1/Protein Sequences Triticum aestive  40% CD-Hit.fasta\" \\\n",
        "  --excel \"./Triticum aestivum Plant1/Triticum aestive -UB-Sites.xlsx\" \\\n",
        "  --pssm1 \"./Triticum aestivum Plant1/PSSM Fetuers for Triticum aestive Plant\" \\\n",
        "  --window_size 17 \\\n",
        "  --epochs 10 \\\n",
        "  --seed 42 \\\n",
        "  --batch_size 32 \\\n",
        "  --batch_size_val 16 \\\n",
        "  --lr 5e-5 \\\n",
        "  --dropout 0.2 \\\n",
        "  --freeze_pretrained \\\n",
        "  --loss bce \\\n",
        "  --pos_weight 1  \\\n",
        "  --optim adamw \\\n",
        "  --weight_decay 0.01 \\\n",
        "  --sched none \\\n",
        "  --step_size 4 \\\n",
        "  --t_max 10 \\\n",
        "  --gamma 0.1 \\\n",
        "  --device cuda \\\n",
        "  --sampling none \\\n",
        "  --sampling_ratios 1 \\\n",
        "  --cv 1 \\\n",
        "  --plots distribution confusion roc pr"
      ],
      "metadata": {
        "id": "UuZx4D5pYz6n"
      },
      "id": "UuZx4D5pYz6n",
      "execution_count": 6,
      "outputs": []
    },
    {
      "cell_type": "code",
      "source": [
        "# %%capture\n",
        "!python3 -u main.py \\\n",
        "  --model prot_bert \\\n",
        "  --fasta \"./Zea Mays Plant 2/CD-Hit Protein Sequences Zea mays plant-  40% CD-Hit.fasta\" \\\n",
        "  --excel \"./Zea Mays Plant 2/Zea mays -UB-Sites.xlsx\" \\\n",
        "  --pssm1 \"./Zea Mays Plant 2/PSSM feature for Zea mays Plant\" \\\n",
        "  --window_size 5 \\\n",
        "  --epochs 10 \\\n",
        "  --seed 42 \\\n",
        "  --batch_size 32 \\\n",
        "  --batch_size_val 16 \\\n",
        "  --lr 5e-5 \\\n",
        "  --dropout 0.2 \\\n",
        "  --freeze_pretrained \\\n",
        "  --loss bce \\\n",
        "  --pos_weight 1  \\\n",
        "  --optim adamw \\\n",
        "  --weight_decay 0.01 \\\n",
        "  --sched none \\\n",
        "  --step_size 5 \\\n",
        "  --t_max 10 \\\n",
        "  --gamma 0.1 \\\n",
        "  --device cuda \\\n",
        "  --sampling none \\\n",
        "  --sampling_ratios 1 \\\n",
        "  --cv 1 \\\n",
        "  --plots distribution confusion roc pr"
      ],
      "metadata": {
        "id": "aEggSvjIY6lN"
      },
      "id": "aEggSvjIY6lN",
      "execution_count": 13,
      "outputs": []
    }
  ],
  "metadata": {
    "colab": {
      "provenance": [],
      "gpuType": "L4",
      "collapsed_sections": [
        "Mk-ZrvX5ZFcO"
      ]
    },
    "kernelspec": {
      "display_name": "Python 3",
      "name": "python3"
    },
    "language_info": {
      "codemirror_mode": {
        "name": "ipython",
        "version": 3
      },
      "file_extension": ".py",
      "mimetype": "text/x-python",
      "name": "python",
      "nbconvert_exporter": "python",
      "pygments_lexer": "ipython3",
      "version": "3.11.9"
    },
    "accelerator": "GPU"
  },
  "nbformat": 4,
  "nbformat_minor": 5
}